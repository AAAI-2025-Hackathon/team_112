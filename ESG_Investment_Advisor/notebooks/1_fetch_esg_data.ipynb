{
 "cells": [
  {
   "cell_type": "code",
   "execution_count": 1,
   "id": "d2eefd66-f9f9-46c5-8fe1-6d49b3031db6",
   "metadata": {},
   "outputs": [
    {
     "name": "stdout",
     "output_type": "stream",
     "text": [
      "Requirement already satisfied: pandas in /opt/homebrew/lib/python3.11/site-packages (2.2.3)\n",
      "Requirement already satisfied: requests in /opt/homebrew/lib/python3.11/site-packages (2.32.3)\n",
      "Requirement already satisfied: alpha_vantage in /opt/homebrew/lib/python3.11/site-packages (3.0.0)\n",
      "Requirement already satisfied: numpy>=1.23.2 in /opt/homebrew/lib/python3.11/site-packages (from pandas) (2.0.2)\n",
      "Requirement already satisfied: python-dateutil>=2.8.2 in /opt/homebrew/lib/python3.11/site-packages (from pandas) (2.9.0.post0)\n",
      "Requirement already satisfied: pytz>=2020.1 in /opt/homebrew/lib/python3.11/site-packages (from pandas) (2025.1)\n",
      "Requirement already satisfied: tzdata>=2022.7 in /opt/homebrew/lib/python3.11/site-packages (from pandas) (2025.1)\n",
      "Requirement already satisfied: charset-normalizer<4,>=2 in /opt/homebrew/lib/python3.11/site-packages (from requests) (3.4.1)\n",
      "Requirement already satisfied: idna<4,>=2.5 in /opt/homebrew/lib/python3.11/site-packages (from requests) (3.10)\n",
      "Requirement already satisfied: urllib3<3,>=1.21.1 in /opt/homebrew/lib/python3.11/site-packages (from requests) (2.3.0)\n",
      "Requirement already satisfied: certifi>=2017.4.17 in /opt/homebrew/lib/python3.11/site-packages (from requests) (2025.1.31)\n",
      "Requirement already satisfied: aiohttp in /opt/homebrew/lib/python3.11/site-packages (from alpha_vantage) (3.11.12)\n",
      "Requirement already satisfied: six>=1.5 in /opt/homebrew/lib/python3.11/site-packages (from python-dateutil>=2.8.2->pandas) (1.17.0)\n",
      "Requirement already satisfied: aiohappyeyeballs>=2.3.0 in /opt/homebrew/lib/python3.11/site-packages (from aiohttp->alpha_vantage) (2.4.6)\n",
      "Requirement already satisfied: aiosignal>=1.1.2 in /opt/homebrew/lib/python3.11/site-packages (from aiohttp->alpha_vantage) (1.3.2)\n",
      "Requirement already satisfied: attrs>=17.3.0 in /opt/homebrew/lib/python3.11/site-packages (from aiohttp->alpha_vantage) (25.1.0)\n",
      "Requirement already satisfied: frozenlist>=1.1.1 in /opt/homebrew/lib/python3.11/site-packages (from aiohttp->alpha_vantage) (1.5.0)\n",
      "Requirement already satisfied: multidict<7.0,>=4.5 in /opt/homebrew/lib/python3.11/site-packages (from aiohttp->alpha_vantage) (6.1.0)\n",
      "Requirement already satisfied: propcache>=0.2.0 in /opt/homebrew/lib/python3.11/site-packages (from aiohttp->alpha_vantage) (0.3.0)\n",
      "Requirement already satisfied: yarl<2.0,>=1.17.0 in /opt/homebrew/lib/python3.11/site-packages (from aiohttp->alpha_vantage) (1.18.3)\n",
      "\n",
      "\u001b[1m[\u001b[0m\u001b[34;49mnotice\u001b[0m\u001b[1;39;49m]\u001b[0m\u001b[39;49m A new release of pip is available: \u001b[0m\u001b[31;49m24.3.1\u001b[0m\u001b[39;49m -> \u001b[0m\u001b[32;49m25.0.1\u001b[0m\n",
      "\u001b[1m[\u001b[0m\u001b[34;49mnotice\u001b[0m\u001b[1;39;49m]\u001b[0m\u001b[39;49m To update, run: \u001b[0m\u001b[32;49mpython3.11 -m pip install --upgrade pip\u001b[0m\n"
     ]
    }
   ],
   "source": [
    "!pip3.11 install pandas requests alpha_vantage"
   ]
  },
  {
   "cell_type": "code",
   "execution_count": 2,
   "id": "fab331f3-97f3-412f-97f2-116596c59d7f",
   "metadata": {},
   "outputs": [],
   "source": [
    "import pandas as pd\n",
    "import requests\n",
    "import time  # To avoid API rate limits"
   ]
  },
  {
   "cell_type": "code",
   "execution_count": 3,
   "id": "e265d3c9-8db9-4f7e-a27c-614f3db1229e",
   "metadata": {},
   "outputs": [],
   "source": [
    "# Alpha Vantage API Key\n",
    "API_KEY = \"KWC83YN5SXEOJ3VP\"\n",
    "\n",
    "# Alpha Vantage API URL for fetching ESG data\n",
    "BASE_URL = \"https://www.alphavantage.co/query\""
   ]
  },
  {
   "cell_type": "code",
   "execution_count": 4,
   "id": "1c03adb7-404c-4033-a099-523f8bfd2689",
   "metadata": {},
   "outputs": [
    {
     "name": "stdout",
     "output_type": "stream",
     "text": [
      "{'Symbol': 'TSLA', 'AssetType': 'Common Stock', 'Name': 'Tesla Inc', 'Description': \"Tesla, Inc. is an American electric vehicle and clean energy company based in Palo Alto, California. Tesla's current products include electric cars, battery energy storage from home to grid-scale, solar panels and solar roof tiles, as well as other related products and services. In 2020, Tesla had the highest sales in the plug-in and battery electric passenger car segments, capturing 16% of the plug-in market (which includes plug-in hybrids) and 23% of the battery-electric (purely electric) market. Through its subsidiary Tesla Energy, the company develops and is a major installer of solar photovoltaic energy generation systems in the United States. Tesla Energy is also one of the largest global suppliers of battery energy storage systems, with 3 GWh of battery storage supplied in 2020.\", 'CIK': '1318605', 'Exchange': 'NASDAQ', 'Currency': 'USD', 'Country': 'USA', 'Sector': 'MANUFACTURING', 'Industry': 'MOTOR VEHICLES & PASSENGER CAR BODIES', 'Address': '3500 DEER CREEK RD, PALO ALTO, CA, US', 'OfficialSite': 'https://www.tesla.com', 'FiscalYearEnd': 'December', 'LatestQuarter': '2024-12-31', 'MarketCapitalization': '1086540415000', 'EBITDA': '13027000000', 'PERatio': '166.4', 'PEGRatio': '4.755', 'BookValue': '22.67', 'DividendPerShare': 'None', 'DividendYield': 'None', 'EPS': '2.03', 'RevenuePerShareTTM': '30.56', 'ProfitMargin': '0.0726', 'OperatingMarginTTM': '0.0616', 'ReturnOnAssetsTTM': '0.0419', 'ReturnOnEquityTTM': '0.104', 'RevenueTTM': '97690001000', 'GrossProfitTTM': '17450000000', 'DilutedEPSTTM': '2.03', 'QuarterlyEarningsGrowthYOY': '-0.709', 'QuarterlyRevenueGrowthYOY': '0.021', 'AnalystTargetPrice': '342.58', 'AnalystRatingStrongBuy': '7', 'AnalystRatingBuy': '13', 'AnalystRatingHold': '15', 'AnalystRatingSell': '8', 'AnalystRatingStrongSell': '4', 'TrailingPE': '166.4', 'ForwardPE': '113.64', 'PriceToSalesRatioTTM': '11.12', 'PriceToBookRatio': '14.9', 'EVToRevenue': '10.89', 'EVToEBITDA': '72.31', 'Beta': '2.336', '52WeekHigh': '488.54', '52WeekLow': '138.8', '50DayMovingAverage': '400.7', '200DayMovingAverage': '275.66', 'SharesOutstanding': '3216520000', 'DividendDate': 'None', 'ExDividendDate': 'None'}\n"
     ]
    }
   ],
   "source": [
    "def fetch_esg_data(symbol):\n",
    "    \"\"\"\n",
    "    Fetch ESG data for a given stock symbol using Alpha Vantage API.\n",
    "    \"\"\"\n",
    "    params = {\n",
    "        \"function\": \"OVERVIEW\",\n",
    "        \"symbol\": symbol,\n",
    "        \"apikey\": API_KEY\n",
    "    }\n",
    "    \n",
    "    response = requests.get(BASE_URL, params=params)\n",
    "    \n",
    "    if response.status_code == 200:\n",
    "        return response.json()\n",
    "    else:\n",
    "        print(f\"Error fetching data for {symbol}: {response.status_code}\")\n",
    "        return None\n",
    "\n",
    "# Example: Fetch ESG data for Tesla\n",
    "tesla_data = fetch_esg_data(\"TSLA\")\n",
    "print(tesla_data)\n"
   ]
  },
  {
   "cell_type": "code",
   "execution_count": 5,
   "id": "27d92ed4-b8cb-428f-a982-8f5bb28fbbf7",
   "metadata": {},
   "outputs": [
    {
     "name": "stdout",
     "output_type": "stream",
     "text": [
      "Fetching ESG data for TSLA...\n",
      "Fetching ESG data for AAPL...\n",
      "Fetching ESG data for GOOGL...\n",
      "Fetching ESG data for MSFT...\n",
      "Fetching ESG data for AMZN...\n",
      "ESG data successfully saved!\n"
     ]
    }
   ],
   "source": [
    "# List of company stock symbols\n",
    "companies = [\"TSLA\", \"AAPL\", \"GOOGL\", \"MSFT\", \"AMZN\"]\n",
    "\n",
    "# Store results in a list\n",
    "esg_data_list = []\n",
    "\n",
    "for company in companies:\n",
    "    print(f\"Fetching ESG data for {company}...\")\n",
    "    data = fetch_esg_data(company)\n",
    "    if data:\n",
    "        esg_data_list.append(data)\n",
    "    time.sleep(15)  # Delay to avoid API rate limits\n",
    "\n",
    "# Convert ESG data into a DataFrame\n",
    "esg_df = pd.DataFrame(esg_data_list)\n",
    "\n",
    "# Save to CSV\n",
    "esg_df.to_csv(\"../data/real_time_esg_data.csv\", index=False)\n",
    "\n",
    "print(\"ESG data successfully saved!\")\n"
   ]
  },
  {
   "cell_type": "code",
   "execution_count": null,
   "id": "2550cc6b-7cc7-499c-ba41-0f4e0013fce1",
   "metadata": {},
   "outputs": [],
   "source": []
  }
 ],
 "metadata": {
  "kernelspec": {
   "display_name": "Python 3 (ipykernel)",
   "language": "python",
   "name": "python3"
  },
  "language_info": {
   "codemirror_mode": {
    "name": "ipython",
    "version": 3
   },
   "file_extension": ".py",
   "mimetype": "text/x-python",
   "name": "python",
   "nbconvert_exporter": "python",
   "pygments_lexer": "ipython3",
   "version": "3.13.2"
  }
 },
 "nbformat": 4,
 "nbformat_minor": 5
}
